{
 "cells": [
  {
   "cell_type": "code",
   "execution_count": null,
   "metadata": {},
   "outputs": [
    {
     "name": "stdout",
     "output_type": "stream",
     "text": [
      "Premier hash :  e3b0c44298fc1c149afbf4c8996fb92427ae41e4649b934ca495991b7852b855\n",
      "preuve :  Y8PN9U\n",
      "0e2c26a2bc83753993450c520f80715608ed5b6ebea56212dc6c830dff749756\n",
      "temps de résolution : 0.00 secs\n",
      "\n",
      "preuve :  YhXBj8\n",
      "00bdac89c6766aa085c0110e8b55ca549d499bed82ce52becbffe6ca31f31845\n",
      "temps de résolution : 1.44 secs\n",
      "\n",
      "preuve :  w0qVht\n",
      "000c3a167798aa255a12c0af063923975ea107a22268046fdb4276bc5041f9b0\n",
      "temps de résolution : 0.97 secs\n",
      "\n",
      "preuve :  IKCFXL\n",
      "000082074bffb0519d18975d999e102bf09ac177eeb8137116ad1cf57c9b4ec1\n",
      "temps de résolution : 110. secs\n",
      "\n",
      "preuve :  YdYNl0\n",
      "00000b0f59ec9fdb2c9cffbc717bb75ce5559d4ff09cf6ef41ae7b749dadd6aa\n",
      "temps de résolution : 139. secs\n",
      "\n"
     ]
    }
   ],
   "source": [
    "import hashlib as hlb\n",
    "import string\n",
    "import random\n",
    "import time\n",
    "\n",
    "# Fonction PoW qui prend en entrée la preuve précédente et qui résout le problème de la file de zéros avec incrément de difficulté\n",
    "\n",
    "def pow(proof_old, fileZ_maxsize):\n",
    "    \n",
    "    fz_maxsize = fileZ_maxsize # Nombre max de zéros à trouver\n",
    "    p_size = len(proof_old)  # taille de la preuve\n",
    "    sha2 = hlb.sha256()\n",
    "    print(\"Premier hash : \",str(sha2.hexdigest()))\n",
    "    file_zeros = \"0\"\n",
    "    \n",
    "    while (len(file_zeros) <= fz_maxsize ):\n",
    "\n",
    "        start = time.time()\n",
    "        while not (sha2.hexdigest().startswith(file_zeros)): \n",
    "            mes =  proof_old + (''.join(random.SystemRandom().choice(string.ascii_uppercase +\n",
    "                                                       string.digits +\n",
    "                                                       string.ascii_lowercase)  for _ in range(p_size))) \n",
    "                                                        \n",
    "                \n",
    "            sha2.update(mes.encode(\"UTF-8\"))\n",
    "\n",
    "        time_took = time.time() - start\n",
    "        proof = mes[p_size:]\n",
    "        print(\"preuve : \", proof)\n",
    "        print(sha2.hexdigest())\n",
    "        print(\"temps de résolution :\", str(time_took)[:4], \"secs\\n\")\n",
    "        file_zeros += \"0\"\n",
    "\n",
    "psize = 5\n",
    "fzsize = 7\n",
    "pow(\"000000\", fzsize)"
   ]
  },
  {
   "cell_type": "code",
   "execution_count": 2,
   "metadata": {
    "collapsed": true,
    "scrolled": false
   },
   "outputs": [],
   "source": [
    "# Version multithread\n",
    "\n",
    "import multiprocessing as mp\n",
    "import hashlib as hlb\n",
    "import string\n",
    "import random\n",
    "import time\n",
    "\n",
    "# Initialisation\n",
    "difficulty = \"0\"\n",
    "\n",
    "def adjust_difficulty(previous_difficulty):\n",
    "    return (previous_difficulty + \"0\")\n",
    "\n",
    "# Dans la boucle \n",
    "file_zeros = adjust_difficulty(difficulty) # Uniquement si quelqun trouve la solution\n",
    "\n",
    "# Fonction PoW qui prend en entrée la preuve précédente et qui résout le problème de la file de zéros avec incrément de difficulté\n",
    "def pow(proof_old, difficulty):\n",
    "    \n",
    "    p_size = len(proof_old)  # taille de la preuve\n",
    "    sha2 = hlb.sha256()\n",
    "    \n",
    "    start = time.time()\n",
    "    while not (sha2.hexdigest().startswith(file_zeros)): \n",
    "        mes =  proof_old + (''.join(random.SystemRandom().choice(string.ascii_uppercase +\n",
    "                                                   string.digits +\n",
    "                                                   string.ascii_lowercase)  for _ in range(p_size))) \n",
    "\n",
    "\n",
    "        sha2.update(mes.encode(\"UTF-8\"))\n",
    "\n",
    "    time_took = time.time() - start\n",
    "    proof = mes[p_size:]\n",
    "    return (proof, time_took)\n",
    "\n",
    "#psize = 5\n",
    "#fzsize = 7\n",
    "#pow(\"000000\", fzsize)\n",
    "\n",
    "def working_node(id, difficulty):\n",
    "    proof_n_time = pow(previous_proof, difficulty)\n",
    "    # Quelqun à trouvé, on print la solution et le temps \n",
    "    # On met à jour la difficultée \n",
    "    # \n",
    "    return 0 \n"
   ]
  },
  {
   "cell_type": "code",
   "execution_count": 5,
   "metadata": {},
   "outputs": [
    {
     "name": "stdout",
     "output_type": "stream",
     "text": [
      "['aYEJC6UdlJyg6ZJ7HnxipN5u3g6PpKwjONPZWMK1A77uxozm2mMoQHujXu5L4zoK', 'pwrNIOGfNC1cXLHHCLhbINU8Zo8cpnMOSdMayezmMriZPXchcotvBMq0oEirdLwL', 'oKD2s1vKYyPnPeCM5QyHMRXfQxqsQIrqdFIzhgOd5oO44XAELk3qNsZntQI9vRz4', 'HU6dggotX8K2X5WrQgUn5a2YC4CIZWyAjarvswu5nIRou2UwoKVFdIduaU1JZQzU', 'tACBS5uyTcFU9OJga0BsheZhxPA3zId43s03vUbuPdgZuwcjcYI7ehvxIJJm0B2y', 'OU067IOTX92NB0dR5HWtmfTOacUbWTitD1rMH2Wgyofj63WirF6wFrzjix8EDLAd', 'zun39Q7UUwU1ev5geM6YriJSaOmrTZTFxPzOobzmt5BoYV2agRGZrwXZ3D6pmCWI', 'qcyywwSm1B8QbLv6H9nvhqaM9Fjtb2uCfnigL9jGutYOzLFiaTVmV7ViuaSwtyXo', 'u109bp6uEq3ancW1Y9KJrkC9uU6tCHXmFwoUftVtL1NsVfvBWEA8iLaQYp8QyW55', 'N7oKOJRoNwFIcKsAz22uLmMiViLkX3jlS8OcoIT6HbRFBwoYWJnASqwpxFxLV5Eq', 'r06KNvFIkap4iZUuTbgGuzGqPE5tIKmAJrJ6KMihamb5wz5dGrCBimr97m3sQTV1', 'cGn21ACZxKK3sYoP0g1mQhhveD4vhWn2uZan7gpYQuLNiujFSbLooei8J9AOra5a', 'LDnCRE0x4qv60wivasFsjHqBAgX6kuizCibTJceuMzZdG86aOtEXetXpOgbzjsxa', '3d6KTYEdqNjNfSvvtJOVJEFeg9Ts99U87EUOXj2flLsKGvx16n404mjM0CP6JyCw', 'G9QGxFcu6zomKaLikOSk90h7uz2EKJapx2LyrvdwGtymqi53VnUDwK3Q2NmCm4qX', '2Uv2vToCEyRfstNOZfiUAtHjT4Jlv9Sa1ldZ9xUKuptTK09c0w6RibC3dRyMb7jE', 'GynvoG5GMd7KPBZx9aC9xqxOlmmJHVgaybztcXzXwCr54QqgKCA3Eyn5VZMVcZfX', 'Zjy9eJXFhvHwPaf89gBqb6vqqp2SXNdvCBPtM468i0FD4ZlhuqCXzOrAlSVXUO2Z', '5YXwC1Cuq42rXKQTR5vCNpMYvatvlpnb9ayVNctCfjXNZ49n9UzeeqRDIx3Z65MF', 'BkQ067b6TfzAm20y8m1LUOK6RGTk7KrVZen5v1JQPjeekqjdrhFUA0G2li96Ge8a', 'myokZpTD7edFlgWD25RuZpyCUbTc6KhOFy5cmkTcP2PwOYhVS84y7QquQI9IWNUo', '6Oq9Kt4iyw502onbMzEdTkci5inq8KtOvNCuXMEqa9QFVG7H6pwAQq7TuBl05rYA', 'NRpZ3tykhD3ZOemm7sk3SPFVWzd4xF1M922l4QMuezNK5MXxTqaQf7X6BCdI8Aw8', 'Xi0LBHwzj21JRmrlB21I3CVO4YTAGL2lXwUFUhVllYcZtPNigPzKNOBBGIhX6oNN', 'OV2VMJl683zuBE9PiB4fSd71IjtxzK44W1zb6Ic2vyCcvMOHSaIUUFOQbWEoqgIf', 'ly25oLt8YMFlNgAPH2uB6KaRt0IkZSfpYXuPg5VCSuDYpSnL59fl1Oqktc1FC8LK', 'HlrP4gQEMMAw2Zq5uLnEmO58IxbDLCIDr8jyHPo6s0EvgdSkIqUBYuNQDhEa5WqO', '0Z9bIV36ZAMP1gVkCK1jzbaVeGabvweKrR4F2oNLRmL2eRdYqPiOSxeyeL7ODONO', 'X5sXqyTftDGL6dZkz9cUpE2bBNKGVStKGOqKidNyZizTLc8inyFVZWizhfB5rQId', 'OrHciTI9FYUHrOZCj08ZQIplbke5zCughT6vzZ58EPP2LaXcVKdE4tjMvvj6JV0M', '7digQ8WDYSFXYpURNmOwBjXnyERZ8I7yh6dYT2nIsprziwvjtwLxJMlgm8Js1cYJ', 'LF9AP9yzWqspsJXhh52O5kRVBYZ5TxD2A3QHyXnUwUX9DV7VDiRqaoOpn73Fv73Z', 'NOAfbRr3fzIEjU3gHgOCNEUIwPg8jyXvL4THa50EYXCnEZZ5OLQK6C4NOffJW6NY', '25EWsoEVB1z6l2pFtRTiN3RNn5LLpHFFi5mH5r5UEpGydzCEvghx3utrbGvVLvJ9', 'PxBOpFYA17KLLy1qShAAnr9j5Gk45qedJ5AF9RxYl7GdXawZNcwHazNKUKXWgrCu', 'URhVsBGRvNQMC5Bade9howrzL4APP3ef4rThyIeBUZ5O0hkGih3w5Gr4TdFJfqMC', 'obU2DdJNOIJCuQnLUe9jjD9SOVJRzFwm2v4fMyNijyD7QbZ26CRF11Qew88dwujD', 'IbiG4EIh0jjt1DonMxhw2AFobLacFRw3up6J1PU5V4pXRrCRxPgZQpuIPo5bRY2a', 'FnYR3xcaOfwYxJv13X08DxV1LIHpLp2lGp14JaifWGLomqBeIHc0qYLV9ARIdqX8', 'S11d7ZqMWoBe5cNp4P5OJYGV55fCT5trGHiY9brLEH57W2vlfGSjvfmXO72bzGnH', 'IPitlpMmoE8Dzy65FXBcd6c891G6QhlCuxniDbi1UDo8dFq1082j84clFDPEj8eZ', 'HzHT2H80uROUQSbfn56cXx8pc1z3YoU8BbussqiZKDx0r4FpgnQMoIxizQJyueTh', 'UkuM6ILOZMRHmb7NC0zvgjSMZX2BX5KdMxrWD4ZMsHPurUo6tPQ84TZ79wzSrSpy', 'UyhsOfoqTSGP5OjvCtzFTXC0ZDTiQzVPQ5iWxWv1xboKiW5IGMVym9nwb66lapTr', 'Lpt0d4sShe7OsMlPmA7el61Qj2zDeTiCisa6RvqBu5qiXZWnDjQMPwUpWFnnT7Ix', '8Nd86Wk03vHyGPveTpz8BPUK0qZFrWOZ7NMaxZKsSIuXLaMyt4jQXyxXcn50uSmo', '03coZLEEVulkH8UdJvorugJRBnoAv4gMDSqcabiWZvwYVciKq9jQJx2k7y0M2LS9', 'SbKTa7VETcMJU4ghjhLZauUfwSHkGM2bmxgNaezshWTPXwPqROSmJl5zSOTNFuHV', 'duZuHt0qxtzqxBBUwFA2zyeI9Zz5A8aqRsBYg39UB4mn0nle0kIQKhmUCjNZEwPY', 'Vzn06vRNRFX0nGWYTShvRVi8VGL8Y6ysWzM7KaAaPBZWSQzGknc0lVnCDQaLztkg', 'i56tE2AILByBuXjycFMcRqxPK2KffPTk7kGxEQGcfCo9sWiOFgAeILhklBZSkM8n', 'mQEHZF2BpRxO2TcuFxNQpEvLb5WsGlpbxHXfr2FnPYKSodXn685GOu3T6Qw8jAbq', 'ztsmfkUiicVUyNn6aKH7azmIsFhCf6l3wVtR2dBj1I6qGUiFnp281buIQXl4AYAs', 'z2e0KHoBNa1LWnlNi8piWRm3NkJBSDD4h53jRXQwrQ4C6i9a8HglBefAZIqL8aSB', 'J98MZoNt5GYoTFUiTngXCOU9ICQYSdCYUg76aasuGZIzLYoiLb1ZddHw9w5w9cRh', '9syFsRwA2XaeqBTcW946X77Kpox7yHWsCDqyv4rwenfagMzqckCIc5B3XhO2UrmC', '64uzBmfQC6SdSrbjLNeX6r2xTiBeDiN2iEtvFsDR8In9L88L3uhgW0GwXV8Fkz2A', 'V9DoPEd5V9Sb3rN1JvMgnB5ru8J7UK8ZHHWITWHJdblTtm1401wy8QT1TlccqwyS', 'Z2JtCx8Sa7cq1c9kkNtvmeVJMkOscLrNpmzMpYLRDt8s8zuKZI59tArMYROxQ1gA', 'nYsUslSpTGzS480dcjWJtubINPc34q0mZglA2j9ADWNLYEgdYqwXqvE2B1G4Yb7V', 'WZRUg66PheI9QM0ooOGyuteuJNVvjKfWbnu20Lm5Ly47QiUiFMgjLSqmFQzOYnCn', 'iqYvmHAhLcBIlQqroc3dGAbvitN3oY7hCv4wstyqD5NRipe4Q5T1CpvEPcfUmXDv', 'sns2Edgl4h0ljeOszJG0RYWWZvJKrM2RjLTAspl4W2FQRJw5sLDPmachTDv2gt4F', 'Tt6wBcDrXIj1Wuuid3hyh247Gp6n6YdPOeIE1eF4WvQQqFlgVQKGIBzST9gojsi1', 'JTh9iXWdUmkLbVFG2swQgWQu3Y3QnXr29gnc5aBlKwWVSULwQXDpS0qkJBdnHKqL', '6vudiK2lZ6c1SevxMFot4l34eZPZKFZbWlGJ28zwpmfriaZng3Dk0RF1GXfPWeei', 'hmyVSAb8TqwmvxtGK0iOv0hOOTkyFi9L7Bv4FWYfRROMKKKNrIzGZxmuGniGAl9y', 'vvHrKXGKHkPhJVbDGkahECrGkom20uzowTTSGQ5MiC4K9cOulQZXTVwe9PVZPXmP', 'kUuxpiS7zyd052Eq4gsdLBVlvYVbY7E7u9866YEkGqOhuzLQBirrzrz7ZLdR4pUi', 'LdGmSnUxI7er58zkOkLUCgLASpj3DUncywu3ku4DzfYnALITuLyI3FCnxJdTO0Gv', 'dYpK4EjJ4tjSDxEMGuAGQf72i6hyybCgcxmd6OxOBMqXqURoP9HSj4XaZsJ9fsQ7', 'ukP5vieyiopWsBLmClXc5UCT3K6mnaiI7PEbx3uk6Uo3K7aajXfbvxyKgfrZw4r0', 'JfTusvx9yUAJ7pDm7hYaPL249L3Int5GNXnmUbDco4IHexeor3ob8s0lshQgSe1U', '5gFrkzZ7IT5qJZqXiHvKV6FPqM1G26eFqIu43XyQDESxpMXVgt0JZ4F6R7SEAAK1', '5f3baD546rq2Bo0Pp1EUF1KoUiZ7OWnCrQjxZXYnXr8UNCUSEJXvdlDy4FbrWmrt', 'kgZsnwiGE1uON5oOQmMpigH1ZP3EBAwiEh06AzS9ecl6fZzytgf5lXNkWwEtOPrJ', 'Dyc8UuXk6JYTJqWIpKMBanLvDraBQRi8OGNpz7GWIfIVSr5itSdPdEeBwO4fcZDd', '3SJpW7ExkawuRkkAAWeEuDgEs1d26qtGi6xYJoRaxuEWtLBePCl0RmWarULAtF0t', '1SqeYYOz6OHme5ztwhvhWj1nwVKYLZHDbngP6cWTGj4rQ2sQiWih8LwGphEMKbnI', 'RFRqqLKUqrynC94LZjyqxy6MBdoshcQp5NLGGt51q2tS5obvXiSTT6n2yZbNAEnj', 'xl25oXOcZJ4IXi9ekhvsBeK1NVsqXz9qAsrsJRBrIYnqRnrSE2AGEflCQA6TCNBS', 'BhftLcF0uy4CfZKmZ0tWgcmhdaZhiqvbmgJlfSsHlS9SLXNSeXVkqCEReSireqxk', 'aYsnUoXOOXUfS8uWKY7GYo7HafAdhROpWyw8lsWepwcWrJPBabi4Emg6XcpLB2Hw', 'Nk0KPcE4D1X8v8MPs5PSc8r9r2yWnr543Pf91w9LkIfBlh0lPkO2snZLFOAdyIDX', '6bYaxY6O1mmgdqAWcTxNXBzRYBRqkxzJ6MgyhsmKANaEe7zAFORaEPHJ4YlDAZB4', 'bUC1lhYBpjoHbHmbYWKl2z052y2KAUSR8cX1bxajoBdzI9oeTl5sprXxhVudcEwb', 'x1Mog9xBaGOCFo06gxtbpVrALs6tKB3SevAlWQOlZjjpkmAIqHYnCUl4NVg93wzX', 'rFIWuOLVxrAQuZFun0USJ8MKMt2EsIT5KgFIc0dezxyjuF4wCJoO2fLaOtGMO6OG', 'Z61mVhoH57L7PambuE05820Ea1gRbzLUd37YuKVYqgQ0p8gnO63h9MVrNvpYCla8', 'jXikUz4ZP4fAOOEphvv7PVzKVe3TzbqgDiw5r7xxPxTlZgSOK6XFlYUohRCuUwC8', 'MWX6QJ4Sl9N959il95t73LpbeV8t0I56fbJq1tZHyIxl0UlU8OHIOrdayUswTPL1', 'CJJJWQAVBrRYj1JC1hllbPwrcISsoNpXoKZZbT2kLKQ8SHQSCsLtkThI2gmMjYfZ', 'HXWFTiFgh6aVsLUiXIB4vBYw1l2TOxZXxYlj6hY1jURfUE6Xm7XpZaL7sKTVvdab', 'MCQGMLp300nOZHswzChHswMq6gCmzLLzEEit6jkZ8IezfXlqI9PeWW8gtPUFKbOl', 'FPL4zDrGSun5GP7xVWmfnHAc7acDEoBUV6WOZ5KSJp4D5Kx7VBmJiWuPV9HL7y60', '6mRdhgXDbJ8obnTjRiJQFFRDaSkUbOc4KVUw3o6JKRccTsOxCPxWQiOKTPGuZIcS', 'KhDUxBUc2ZtKtSzfVxm2cBnfjGCD866VDSuIkpjFYkz7WwHVPW3yiVsMecF4dkmX', 'cnozVUnrW83gqpvg309NOWty1s8u4buxavWpDIcIbLIFzLkzJQsUkIZmzWL14sEW', 'huHQ30mY5nEiubZi9DCF2jVEDEvlAgSkoK8ZRpDOJgqq597om6N4I2LIAixcy7SR', 'CgBkgkhfZPWBEJrCg08XfRhqcC0DslvhK2ANNLMNvNSdmg8kbVhFtHyEIGxRoVvq', 'HDr4zNna0Ix0Hby7PW2yXVJfFs1W7nFYprIGqyYcKHeuj7S00wncgjF2nBxSckhq', 'z94cPhjDlqeJ955pD7D98xuTywodjCdheYWZdeKubTyINJCixiMWBb8jWxfgQq4E', 'FjAdD0DYJzUkexS6WpMIT2KuZUIfAfCLDP5okKSr54XDUDmwopn6jPXs26Mz8TOM', '4ZTbnHguLbbj046mzvAhbvZUNuYEd5Grnh5sOtcjMrUhlr8zP5VH129fMsZlWMlj', 'FWgNXrNJNo67ZDblvhY3WRDtBYclaHOdVyoG3CYbNI7dpnodiPdwPyvnLLxC8IgI', '16DPcPNaWlqIyUX8us8Y4CaA8lNiwBi69N8eafe9bnJsQRHYugJsdrkPmLfzdXsO', 'V5lyX7p6Yi68GLWkDDmZFURdgFVfZbHdtZ2RrpvVB2WUKhqgJQnH17MJFG8gBC7w', 'Lt0YKQBB21XivAYQwIYOBbmeJjV5jWgdyQccOjWkCQFm7lMqcPKPaJE2dLH7T5xc', '4A6uVs4srROArDKmdBIf39hI3N5iQTxlaKtEzZVmO3j8LPFk4bIb7brcHG6dU1TX', 'i3P2lPi9POvVPFfJshECikyxMOcyE0klFp7ZKxkHlVv7U1VthUz4C7MoAlXFFZNC', 'c9wRVgUFJmLmlCTeqNyskzP3hb2CP40K9sV6BGAvPkHb032y7EFUK1k7wVlO5vBG', 'wYFOdoEtVufKlNEv57uNs0h6fakByjUzYbAMUCqIs17Z40H1ndM8BVGUq7t4LSTv', 'yTeRUmO63zvmjL474V7D5ZyNymeLgkk1m753Axbco8A3xGTZL4BX7VnThohUvleo', 'SPGcAen0GPI8rOmVRiedNGm9OlBY1fjFKYVdUGSdlqQwMQf6pkIrymSJdd9igtoi', 'kmIc32OcwBGMhivZPLR79J9lXl155e1WIh6btX2cQ3N6yV69i6cmuuGDT3CuI1PU', 'k4zjVY5y7pOXQYwwK11tmPX1Da9Xl1pps6JRq455QmFkMBZCgVN046IhhLcntv8i', 'Akq16vsGJv1tLR6YOl2HVkFRYvs2TQ7ukjaFIGFDqdBkGHCsMN4bIoFuknWl8vVf', 'M6qrH8wkwRmkCymVmNklkzJO7uu0KLgS96mmeH1weifSsPxrsIikhVZr0gWw9td8', 'GxUddSMmqmlNNhBdBT2xw6DfvMaMlbo8ySArU5p4ftIrgtR7pLD1ukMWOMg0nmOI', 'Erl1EvW04SCnPvLM0yz11mascnYEMtQaZlWJtN4iPYqO28Dc1Ts39YuDAbM5a0gm', '0XAsG0zoPH16doYbjRbX5E71wSdgVitndqaz2p3SRkb73jDJEpmxhQMfvRLKXLST', '7rsORcRyLQgqlQTCJz2IosGjNV6pVvTdYuvAPGa1WpBcSwqKHY742meV4bnCOHup', 'AOMsyARMiOI07nibxmnuuh92SLVI2V18KPNkCdxOUkZ9BeMAu0DQuwOKjUfbkvB1', 'LXoYMSJfVU19tjuvhojlf2rBHl1OubkG2xMkxvmH0gcuGHdyBUm6lTpk9hmHQBRP', 'waDGbuaVdllV8gx2vSUXO2REimmoWHYz7CnwfY8UcYnEXANt0oa3KiR0XRUqCVhp', 'kz2RgOa2MRtZ50ikHMPmjXx7dNriCN1j4twrj4m7gHsZhbto42zeDp6gbvjXLHBh', 'JAPwkP1uFS1Kh3P1OecQbN8zOTA75XC59jloCWMk0VEEN7L26OrYChzG0hjQnxfu', '6bEQghMgln5OOqrzLaDH4yogDOayEEXATj1M9r5AFb0891UXorELJcPxaX9vgyK8', 'KSx3BFJCEOI2okebeIaaZhvX6KaEyw0JFK9uoOcFsuqR3BMhMLEBHPnAWHEylPN4', '1gfWZsko8VQUsY2U9e2hbe02JU5B3zJVfYcOQsLgnEpXjaj9ebYqbgkYrOBMSDvU', 'OF6bktsqEmJFpUVYsDgjkAY0BcnLVlHtOsd5RMg9oeaGzUuen9gdvL1F4mJvnv4J', 'Y2qzWs7175NNihkWMQvDEEErCh68yLl23jJDiWtKfaoqoAJ2J5EnQeITGFLEv9Sy', '0NL0JnNswlHA2NzQuyF0KNI1PPrciLBP5N3tkpK80nOSNPBOafowjqWFWKFIUqjf', 'YZ4QPPaBfHHgmMG09MKwJEwif2TscBsqjmCiYjhhRc7XeCGjShavSfwJzuRHRNFc', 'Mv3Kk5Lht4X47dxNQxUo4MjQb0aPGuU5peyFpZnsse9t8TBrOO6uxSGhwXOisu8f', 'qQlqSnf8rhuH84yt3Un2lM7j9suecWcKCCGIQdfYIClSagSq8DDZTkZRM6EmB9PU', 'HkWTnkfAkUSPLkvZLg5xGjjvGW1nDB1MemPtanJ3KshlfJlHbGyhP3LxDBcCDsoo', 'jmhHGaPQ4N03kxF365wKxdi5VfPv60nqHCwFUAkrpC4f1ucjKCqPxxDIQcJg5dVm', '3opUJiCb2iJZRQEcv1uwLkX62nxo61J1Sa5IinLZw1SNW3NK2s0VXYVaJrusJXMO', 'KPTxYueZZt2kITC3JGuXeOTa2UOqixl5tPzhu6GTz4tSlGe0CjV3bgLbuU1wr52I', 'd37kIuJs15KqkkOlbnAcrShFUvc7jFO84bIoAeDq9wXPL8ZTwBMr8YOo92BHbwE5', '9EFTCD9C1isBrF2offZyBuGMLtmzQ4QUKXQ6BJneI81JlPIBFRmMGkt1NC17QnAk', 'XoTTQ2ULVfVAJR7XEGBR2aagM9qUZWEwpiVM78yuHX0bnjF4EjgRchudrMu4utVf', 'uC8kNkWVPC8DuWqTxzCyKqPpnVHZftzU2hXSYfTOPZ1qpNEfkI1LRdjqcZLlAJcb', 'LtstPGLnBKSYe4IMieTSv2iFFviByvzPqjK7boWdQ1evq11uwjXjk2xrsXSu8gen', '1I4ADg5iCTDEwYoGaqkbJZIqIfKFiLF3OJ53RYompP3U3wj7isawtvzUXHh2sDmS', 'Mefdii5qjVt0fLbyajEzrucLYLIEUKmduqRNpTf7cf9IuAksoiuwYwZs1Uyg5nNa', 'FOPrk1QspafEnO2a09UfFuhUD8WNQsXIB9MeWOecxO2hpVwtUXlbnpUqjIECRc1y', '3zjOlEgytzUzQvxtcCG7g08U8fibohhZ4NfFtsAbGzLFkQYupwDsV3KEcnpKEe9l', 'skxzM30Lm6WE04QEykUHg0I8iqwdFqot8VxeZkJAHfiedpqgFfCkweANo3zLbslm', 'xdi5C5BQIiFcwl5uMhecF5AaSSmummFD9zt6yyfDI9YnOXdqH9KKMHqP2TGS7jyV', '2qv0cM05bXUMLuK6sfcj8bDPvD6JILBQI0dSLOdDIUxKQN0PdZACNd3e2AwLTWwa', '0WP76ZI9EPapSAHI0czAJQM5mIdjPCdHVRMdU45tiG0FwMV1dWlGi2tp9ufh6oHG', 'D4KaotHuAVKvOSwNq7Zauzi3l4HgigF0PWHcvBxkRhnRRo7DdWU4XfLDBtylowOl', 'lmKpNwJUx5NsanSww3qQwbXr0WJ1C61RzyDd7PxkWqDizpcRR9BvTSo7Ux2LH44O', 'HKB9bFDWdgrantmfVLXffmcfFjG8NjIgGlG2r1vAxtiu9VwcgcmjiKADxJvatr8I', 'h9OJllIkaDnmGmfRyKrz3CCiIRW3yIRfo1GlKe2wh3c26546kX280kERQannW67t', 'Wh5HvMsN7I0zaIgwrn9uGVYMNi43TyPVvYNMqf9vOuB9eRipTnuefJSkHW3ctsqy', 'cbfpb5doWW5utYKkJMIJ1eng4HvTNiOYm56wokZn1hKbhIA5MxjOGjmSMvkKFsnJ', 'FNA4xTjoNMxeNLJhO3lC1P4CazwIQJhU5sIFZAgpI85Rnbl3mgNsxxOmsRh2O3LR', '5iO6LcgrPWv1fWepmn6ES6xE6nAbln1fGDUbEDNYaFslaARcBuMi1OyqTv0Z1Gzd', 'Yn8QvFV9ZO1TcRKMgnYCfQZJxaGLVbZvAfuxX3dQTI2YP7a696Xzdxv5bkZGIIRg', 'IC8nX2zc6RBgpDaSZHCWfJ9XKZVTm9PL6VV12474xfdn4W8LtL8c6yCS0SaxSQ28', 'dO8YITMbNjV3Cfybx2gdV2HHs0A8BK0rgoORhO2bGJZBhpiGdBXVN5TI3FUWSJo1', 'Uel3OkAgfK8GPRBJfuowxgRbyU7m8RYUnAUIYkArJNcUqk10lUrcDXFqhKLOzTqV', 'y0niUiHkROZlgwCOzLsc6whOp74YvYcCozlAk7PvBxGEYWEQ2pruC1CiqM4WbPub', '3DSjJVN5njcI8BZNWdcy0fdPOyGjII2LGyzxV8a8SoWMYKnmJ6NI2uLfOsxNPjso', 'SvakOLLfIReIFBIoeeo8hk4GN9hke0U7ftpdwo9c9JIfT6KOtiZgJrFinCCkPLQg', 'ElO0lccOH6G7l2EYqEuLO4diFQxY5F3OurGlHDiuzMLR5iVOSoOBb6OKXVNcGk1r', '2PNCXov0bbKt8GUJGefrNVpdcZYL70cbcTEf2zVALiW8J86VxVSzKQv362VKjAg0', 'rITxuGEp6XA1gVrZ7BLwqyQszFGx1kCKwE8tf5QdpdvaW8EXNl6mO1oQNYlfzoN0', 'tTwhykveu9lVxkUsinXEMe8N7weiivyw8QOJ7GVUsq7KERT0E3zx6pcRAAXVaiwh', 'pmsZinJ24nW8XH6LmdXpgcZdplQiJDKpGdpyl5VRDQWtLjbxnhJ5T5GMPVqj0V2x', '2QgVvX4sICcvkl18ZlFfJZHDCxNsZs8e6RCnL6JXpOmyNlgh83eD0DAxxg8fa6rR', 'nesl7OFTHY8MKik8lj9uoGRjavuTggRAsaOMIyCobyMwEr2qEhmrDLyT5HUUVA3Z', 'W5EAFbQRJB0cbtm0AQvxbxaeEYGrI1P7wUHwnptK6ejLXGOf0UVWocZvn3T94zRB', 'PsYOwEM1WO07Hxmr5O3PgvGwfjnNhxolK84gHm7OYegeDxwSZe80tI6rpcbFixzP', 'SOEoyciGdG2pufKW95HCNGxfFbuMzAp7PHbYBJW6Mknv7nkBKcG2XSkB6dD2ZIe8', 'Zv4XLXlmjbmrWK463orG7R4VlORISzTiSG8SzYen3qvepXvAScfK11zZ29CpTg8g', 'kP3e3QNY4UjTMeprEjJIBeNFOpLzbIhwlYsWaoj0ROive6q6da8L1tpDnEzpF4ZE', 'pwRdEiqPYDQ3ttCN06mgnhKD9XarYuuiy5pW3gDHNhMi22YLO7kDDxuH0tnQHI1N', 'Ta8Cj4FWb1FZskcDzSvg24gilipQruWPzn02FgiGrkSBU5MkJTOn1UjCOJWhQ697', 'ZALYAd1yojfT4Z0LgafxNPaxHbTqmcwMXP3kZeVKgR86IW2XLMp2rZeUDxTjzADP', 'mCfTMFaKdLKwWqU0JA0IgYYS15q57sV4pNSclUjEOHofTf4JOSOGlWEV8hSviviV', 'bajVb2mFmebNCny5RYY4HasvWsQBrUAMJQfqR5lrR5GtrBdcnpNmZ8qgL5JA37uz', 'qfd2oZvMiZsa2cJlPNjLgtmTdlSGtQtPwOhYzzmzHETuzaX1wesEOoxApkLN11u8', 'EJzRBMShNWFvrrRrKiedyej1afDd8lWNJJOgefQTKT19Q05Nqe5K45XggkO57Cw4', 'y0eu1ekjijnTwfe4AFpwPXETVuGPu77gTEMkMgGIKGa6FDlgmCraH05ihJFBdw4t', 'jWHunaw37Y2Uqbxl3s0pkUe1CyaBQBxmtXk1Ruy73quZRcN6BTSddsrUKcKWPjPK', 'qcvr7UWLMm85MGaqoqbVfUOECxfTCcpMNBLzXPG2uj1cuWLcDaj1kAOVU6j0pkb0', 'o2gNzhBJy8NWzUIcYSiXvLZFeQhfV5HSj7hmegRb3dFmNeQi58MLdH00KIj5FMhH', 'TkTQxhHIRI09V9uf8JflBUsPbr9SOQXZHrTRiXsO1EG1ybMph2aeggSODUewmPqA', 'OcZCUAXPVhlOc26B4wOXdCFssRpXkwnQ9TQwfnioitiXTZUk4GbmDG6SKtDczuvU', 'FbYYmXXeFm6YjgauuxtSGoJs7Q04B3NdYu94nQJavgnb9q2Pf79JIKEIwHz0wntC', 'Fw764PV0CqeRLCJQVEs8vGBJSs0Q4pOR6OZMI85ZKYbHZ1NZhOrHdlV0Z9t4Uv46', 'NFctHFx40SZ63P1Y8IaJIU1wnWXaMyrzGdIPHO8ZnBr06kCvT7BPQ8PfE0dz9I8u', 'UfL3waqTGrfd22MLl0RN2VNbQFvqajNKI5fEiV3QpHomvdug9axwiXLkN4EOtRrE', 'KIdezVhOgzgxJzG98FgOr2zGk714dCumt6ZP7RQ9zrRSKWXmlQrzmL704Kywo2xt', 'xKCXlpLYIzpOKmaZH3K3AQ7BYqlCtpDK8hDUUoZboZiATYfJIzEmjDJb5b57FV7p', 'EhuqHm4LILeftX9UBbcO3tmlRHPetBnPAs2ndlZbHydWx66cuxhcEaQZ0pUhoisW', 'LtZGWU5oTUKNCOaEIiTr7Zs9b2V5jbRA6EojKw90H09IVoL9NA5gjTFC6DyDwA7w', 'VWg7pXBRpjRgIF9LDmu13J46OUWxQ6RlIUqV95i4Ha2oqCYuf4b99dXUgg0OssZu', 'tGbysOvDaDJjKFRCy8sStX91BEQ4A1LzskMR0qhMqRrdCMDL6jyezxlWlg1FwEpD', 'hBmvbxG3HsLVp4zi6HG0XPNU6Ie12TrR9y89GQglMrhmp3E8ypUIYSgDmmc1j3GB', 'TxbEWsJl3SY4cMnIQmTWLs0I0zviiDLtmY6APcV8nXXh7kOHZDwvjlfVGFOdtXL7', 'mC032SH2AEN0opSQ91walbDpdfI6WL0yIGpyyxx6DMjgA7sAh0f2p4u1o1OurMhM', 'OpEPzYKLGvxqMeoKeVnkaBqNhEveufp6igdvU6FzPveNB5qusw2CPYc1BJtpli0U', 'w62JVAVolmFreHqO8zOxpAXtn7O1RgbHNA8lJwNrWcrtZgejCT0M9gVk5C0RgwLW', 'a72V6RBo8gJW9hgF7QeTA7uHbjeV3aDUyiI4u5TDWwisXIgqTnEQhD35WzeFfvJe', '0bDEoPebux660wZT3WJ7B2b8SQ76tWSjkt7criMkYEPVRm4gJwyn5hm4KXCNriRU', 'YSdeqOiREzk2T5gjef30Wn9BIF1FocUBmiBeQlFsDZIVIs1cr4SmIBZgHJUt9UyI', 'sENLzSDNS3bb5IQHpBe1iCQjHGyBtswrhg5HbkrKw3qx3hWmSfTPLg7XGLGlIcO5', 'QrU630dch4jyXZFnbnKHPLRnw7hSQmxOjLFXJYakcOeZrGxn5pTioRdTLBEG63l1', 'EAvwf2YyQCONLoHIS1Xx9uDpE6Yrc86Wa9zFA2afjjnCEngjaVn83bSV8ijcZZm6', 'ZgRFTWKSerpz2kqavpUg3VbzikjmPtStILLNRMTIyQNhsswtucNzbjwLt2VQGEuU', 'WRrQJoLYwMACIAGO5fT3DeMfRxD7745NB32sPkVP6oOjX6dEAvTeW37htZf47HRU', 'yk0LRvQWttfryiAOeXnQqUjSUw9oszKNJN3Z3WrNIzNgiA5ghBC0MC9X38vJ50Ub', 'mgeBzyem9dsXyDTjxeiFtnBM4eKvkRovkr7EyDxHnYt9miYmX8Wqe1lX6XwPclDb', 'aqmeGQEb0FhYY9WBb8k1m0aXuYeHhyzW4xhkvsnx6mkAwwSG3FUtMSE0Lwu9B77F', '8OUJEvDkQRFZez0g77IXFfSWDTOZck3USTbjtTBNuPmhQ1EV2y7BVE4P65APrx15', 'CySlLHsmpXW32DZrRbeL03d896tEgdr9HMbLArkp2pXRqNyChemyWylDEb4oANmp', 'BPtUrvPGPI6NDpIFg7Kwo3cNd1Jo3El5bRYF17wm02FezhfwW7jPy3bRgtw3KbBs', 'tvdduvJXGkxPyG2sO38MpBu9hmeXxCysLxOm89eGgUyXKL7ZUYMdzCERRpRgGC47', '7VyUFSOBOLZ9pNUfr9dPkRVrg4TKODthFk0VUNFX6dVWPUkIoZUv13L6pAne4Km1', '3oGZb69YKoGs4sA7wVRoeUX5vIicTnTLlnOMYmwLK7de7wXanaFyrnBbztPttdFd', 'zpNWxepeyQJTsRbbBXP8fOKBOOOgEvKriop1ATkyFG5cqMLnSXhIJvDxdTJKAtKF', 'FW3fbSWG5sFlX8bgZNIl5VNhXxN4Az7l5fBpUVTDrwOIhfitCVsq0hqSfQsaijsz', '9uQoAIEwpEYSpHyVsYvqv3Fin5vkwbliQ9TtcNYqCu6dXfKYHOILjMfWVWIVD3F6', 'MDnJy8uhZGJKSQBp7Mf9QJr7ZyfRntMxOTXOyxoIz86PljatPnRncPIqSQvuNLDz', 'cmvrPDvBfRxq9i2HAuS9q2rzdZEDY26YnA2fAHjKmIIfx1eqndpApB5YmYSXR3W7', 'PBT2Hg1MX8keILDRUOVXSV43CEUa38dfdh9JIQXBPGplkpSqh3Wv0TIwgT8Xof1P', 'GP3sFiCq3WffjcQaUoyStPP7qczRFNah0A9MVu6CJUewvobE9yi2i8j9ENUeVSOj', 'w220gdJXcYudXOFwgQTR7iQS4S5Q9gDqhY1zqGfhFLSL8txXUShNaWiWIXrebrsP', 'UNjPkJ1uQvJ3zVEzQPc6j2YVwJ0u8ao84xRdXQ8R51IiXTHEVvQ7rk8805dkRFgc', 'Dj1qjIMD4UoJsGN246r5VtX3vq4sWIomSt4SM92wLKJhL56fU0FvEyhFk14eZXhE', 'djwGtbe4paINHbvFEqSKLaXyPFE8UKffDWVFhKoInGnpNGCmSrWHe0Ik3Xm2cIo7', 'BfRu0ZYrzbtvYXHummjK7YQdUM2BFQWpvjhKGU7NBBRD1G51QeJ8z7KobEIdguDx', '1cQcXd305aYAJWtGTj98nzYexgwobdtk2cWbaXKZCH6H1mYLJstuh5Wt4GqfW7iP', 'DnRkSWuTqEYvCGzvNmXWZyZbTnKZXj8XZ3DxG65ihaUICPrGagnU8PvUcPf4VOXK', 'Uyj2FEURvK4W1ZlhGclF7ghm09wCYXmKYFJdw7LkP62mzUf3cBkXqgOSsWjgGbGc', 'gabkLgt1hRVsOgpCU4hOE13eyXgtyXOb2b8mE2c0oNTdwH4ycFmM8LhTZ9CLAe9A', 'jrKNvPLLHqdXFNG0aSbbkfnxOwutQMp0LjtjdZDGJN5TBIWrC3nBti3FJGb836tH', 'knElXrYjHTfpB9TbQ9Orz6zB4ov6Xh9dY9wy4nSVEFSTBrBhLEmFXe9HwrKDDx8o', 'm5pUEG02aIElHRkNZE6Ai58kahusExsw0BLJZv7yUTmypIpiXpaibFvTTJ6r6ohd', 'F3gVjIAFjopjfmnDlLHdvpSILUpzHjtRhAlyOHwbcVJ18fQKXNl9YrP61hEG8YUy', 'dq5ZPCgOPB4zFfzDQqunmEwNPvnlaaIJtwYDu3l2w065bjXwhOGiVY0A4tkjzm5D', 'tXlO3McUfL6vVFVhFNXloYWUlL4JEgAEB3q67kRywXN2R0NJQTdhr1q6II17v0NX', 'GNJcBlA7KMkUvzpEwA2iWNGC3f6IsZLYdHmLFcglhIc4dllre4DHovJ0oFpBk6Zn', '52IJ56PskoUBqbcsgIyhe2wbOtJVu5PCADDsW0MT21t1lsmzI66OHNOVECefOtI0', 'm9DU3fJZ6lt34M8FqDv4qU1LXAPpPdxCaQd1bDkGXrZT2EoDIoNWTCuibtt9OFfF', 'TPOwt1OGVIp6d8k9WoEy67z9eDiuY1Megrm1FSlUAjGM4k3fsdimzALMWtPilTgN', 'cpQBHRa3GNjoqaIelPL9wU3ApkfqxTZ9lwrIpzcr5Kv0jp5mvZPOdugOTXbiIa7j', 'BJt9JcrJZnwPVpa4v1E81lmM7WFUtbXfQmroH3PenYVc8bd0bgTmaGQUoNRiuEyN', 'SsGr18xoyPoPK1opaArg0ZWpfnFnLIzF8PtsZAovlgA91lbxGHPKUbDFGfnhacfX', 'uMDmMrsrLdiYpHFYmyTOatFmaOZGNglCJMqWxuJFHeRITT7lnykyTD5iYsYwPGU1', 'VIP1VnSqv3GOrS795uRaN468FCw2O5nsRLWqpUwbjvsDT8QxvFAx716q7BCCe7le', '1JxMGqflQzPNmSORmQdebeeeWxwZqahDx0af38pTlOQee4uJ1neSbw3w9ajpbSOg', '0wHbG9GQAt0lKRSQ5YDUS0MWjZjonEgIA2OO0zHQtbNOFT4csLRbzb03RUjXvfvT', 'VsLuGbmAuJgD9ZcHmCD12UFHxI19svevcXewfi9sv1upiCkYQRmaBxaM1YHeJUhm', 'UWB5BvtNE71nuIGIIIRwRfoZwtTEJSPfCYEr7IKlbMVgQlW9XJtMR0zGOTzwqnzB', 'Nobv9VwP8gwyohBfAVaxIuc6foOLTtsU4qd8FuyLJ3COoTEjsbQPbtLS0HqZSXMO', 'FSSSLk02V6ZDgkwXRTIAP3VNaURtHjZDRIJnk016FSqRAPFiheWaoGTl4tIfDvwv', 'CtJpLM3Wd7vZRSqm2GcqdY5x0rX63s55arngV0Q48H5zqJAMUdllpeff23Fe7OCg', 'eZZ0DFX16BiIcWaM9WosMqQ2nPo5Gg4jCMmLySBNxiPZfpbuVAnGaFN1zSrhWme8', 'Fy8eCJfuz1xfjq729tEQAn1LKFS2w6RY5PZRlO9ldQ9OvSgJyznPuBgYnyod91pp', 'gpVni7reEqH7HOW5A41JzPcBYa62qqTxDi86AvLTpcChoZ9ZVOZnpKC43dZ90MYk', 'h9yijg6e0IAyUqYUkoR6Fpv6oPcnwGT3yCzRhOLKLmUr4J4qrUYT930jLp4vRC9O', 'xtpRfC3A0hmbjo8QuAyP5iqyivzSrdUXJNPvSDvfc0Or4zFJAWxGiI3LAaAbIBpX', 'FexBGUsB91JrtBLYa8CGHIQalzlzSIt9GQvyzaUdj1YR2updb2wEOd4pbGRVjsN0', '1GLN9bWAFAoL3XYqzNGkOZEetNj6nRivm6VQg01nC3ULTnlNwwFo1KAEFFL3rXTL', '87SLtvVhQNT0D2rBDFqAYp9lTcEOJwMnawhyAItmIzy2GGMcirx0PgNb1HynBeNr', 'OHS9HlPIrICIicGKgVFSJnU403OfXY1mJdbMOFNcxLu6CWoUcHAYL7v0T2gWNL0x', 'YlikxGRTU7bdHpC1BGkRS9z4IRTS8WtnmaLtMQTibDxVu6mMo2M6CEm6IUAjUW19', 'kkIaxJvHTKuWv53s5UpgyVPN8H8L1bMl6fTP7DhA04muPrEtzJuBStxrLwGmhzdk', 'OwsjR9rYeKx6mqk33J1DhYgzzM7zkonYoprKbz0llzzVIuN2KQv4JWg3ZCJTL3fL', 'CGg4vMQtkQm7UcFJuyEXXDNC1MbaPACCb8TgI46PKqNLTVP1zm6pZJu1Lu0TdIUK', 'iZyCdwzliJ0AZGhdmiPeWZdUCKfe3JjsIWz2Vl0Zy9fykmYB4jsw0cfV8AFXOEYj', 'iKlYrQrBlNGXSUpyd7H0k5zMbcqfVIZsPrnZzCi3GSjPlWvmHW1KUYuZvlA2JRvK', 'YDvUH3oPI1txuMsq0dMaG0etJx5JMmOc9roNL0lBiSwZzlXDXHB8s2yPivc2eg2R', 'TYgiuNmzuqSSP1RdjREeNDEqEBEsbOiw52U6ROItsscyPzWbH1lixkgqaGu8AYaG', 'faC1sX1l26kcsvsx6t5uayCbwvM3GpJMinwKgM1xsRP6gATUe2eKx7IxFggRPWif', '2Nxu5BcwwiLvjRNiZCCffaDdaDfgFH8i0FxTUwUlUoMaIXsqGyd4nfxTSkucPO3l', 'VMpHfPw8B9Pjyyyaz7QfO96j77phw7htPUC4na64JylaJQmi1jiZq8Wl4hH6AGCG', 'lYy49gsGqnraOzhLl2D8NpEso7Jm8xYpDSievQybKnqlzgYoBU5ETKde8eqNnF4H', '4QNgMwZqnsYku8zlvwBKFJu355eK9Wr6obVU6zFrXF8uvtKGqm5f8VCPuZEbO56C', 'JcUAqo50wIOwBhkMW5nUklOsK5sdnlpPV8qCfWNTwLbOKwajLozxoA1WYspqOnZy', 'vYPhiGximj8NNYgKZPTYxwBEetzRR9yfMdwVxZN6F0bDlrH9QMCursSnvv6CoCEv', 'vUG6iWEHJw8NT4Cg1xdLVfrVaAOsl54Ig29DcHuYtiK1MJ0YLihjfTPQgN1ywcxF', 'GJGxbIQP2rvaTNkKzNYgJOBRYNKbKQWyk9wkqCftGKmFP5s1I0HKjOQAXH4PRXfG', '61AW0IA6HI3RfJa3Iw2T5XkUS8PeE3D2iSH8edIS3DokhK0VgqkvPVXnR5McgMz7', 'yVCVE9nAf7ryilYiC4hwQXlL6nNsbDojJN3vjrQVhc285tGP8HjDpZ2y5gVJgLQ1', '0ewkKtLkfUNEtQ3gK1vCjpWs7WXB3bRsHH69vCJVm9k8ZIwUujAgKzwUZ4sVYgRE', 'LvolxpZBjOs9SBo3j8sMuEgPxc8FezAHdsJKxhVmNyTBhrO1l947iU32xVWI0odl', 'pbvdlIwq9xXu29BoT3fbd8u7t5w9pofJBMfdzNvk3wc51E4AcAHjf0qbsBJ3qKd8', 'Ckq4b9GvRss2QftBF5Ve7KbHqIIJS9FRlMgRlplHQFJWagPgkyncpWg7fwK56VPn', 'U1VRdlBDdJ3vEU5MMbpkzVDpUJBYQHuxdAqtukHpGih8vA5mFss4PDakgL5ybQV0', '8eqINSCk28w3lTnGJ5FHYUOn3Dl4t8YDmOg9P53a3gYHSmAdm5CdSlxeLBGehTyE', 'RsRwZi0tVRi2JP54cbDK0JRzRy6eHWcE6NJGVI69GZMpFmYhJlPrDR7mdpmQE0J2', 'ZBAdH0Y2BiJwb2si5ODhirDJytfTNjWkZnwN4W9xsOFSG68IoXMakixDAR61vcrP', 'y094XL4FIvOy75xxppoJHJ3waIjIkFREdAZixElVx1VqmwRNy0ROqlYtlxw4Env4', '2zeyu4v9wxiU9OAotMrrIVp8BjOiFHh2KHZYIlYMWiIdfjKX9hHJEXn0u7f9UyFx', 'OaMH61SgWb1srGHzSCtGLwUFlp2E162hjl6vctq3hN0jcxBC4M3SYjuPf9lgt3xA', 'CldSRQxSgXLjspy2k41AXj0Lvp4JSrFzPYuae5HmNQXVFZDVi7lpR1GZImMfvBp5', 'DM0C9bLNqN6FvlRvqXsTgk0sGJAXTxZhrPgIdqedXheecmvyIzrM11yikGXn0l0G', 'YT7nipcC4kkw4Pxcq2Jk5Vh0RXB8iZf7GnF5cDIsVfERsTjbvUNIiq5cnUCODY2S', 'uKWPynICodoUPjxOyhnJhosj34KS6B9EfMOZUW1pahXp5fNWRMBGzV2iDy9MJfx2', 'wTLHFwmRr3E7WzZPyHCA888ZboFmYB5s5A95vgWE7e1cvAFpGTPXYjc01MpGCCAs', 'rWdxxLTiXe8VhasAlC1w1QCZykGFETzoyInChdrNQTSb2iF6NIRCq89rETfOQxnB', 'f3eMc2Gh0YAV07nZdfAMixMxl7nsr8AB5v3BInQ6KkNLUwGtbMXPXhoUJGUnqIe3', 'rhkKRGUMKd89vsiwVFXcAaU1FB5GKxsi792VyWXcOIJ4n8WqTf6CsuLkqs59yFrC', 'MWsWGKNmuNTof4sj559gtgDV9zRIcaI5gL9esIbcBbjK1i9WWQ2X1hdvDqmAvEj9', 'uwEjMvbuY1dctzYatTvqknZek453RrOZPIuRdJRspXrGqY6gJU0FELPCeSYOBII2', 'GTKKbzQmXLhZfWvJalD07g5bwNT8wmITdd3I3cnstuJWTpqrvBJmSXiplSGv8Umu', '3f8WHcXhSCF6nPFpcoeUVw2kntqgYJlfNLTU5efOoDGsPotkxGP42MeeA7BWSWaD', 'Jw9QTEwhxLuxjYOcULHNXCUFtjCpx6UND8ZNwdZTWQznriJtMDQh0XtqIDV3wJjp', 'WIHUOlHfggWqEXC4kqOcwIjtkhYJIWpJAlez1upk5Z5wD6Ap3PonwDAs26csYWeO', '1vZBZH0qRW0auFDBYgGLIDAZEF56AmEYu4uVQoWiTq1tfquQ52YY8D9vekwaifNo', 'FrRORgXTMcFJTVhWo91wmF86LiUlBf9PJpzrpY7ol7NzhmhGzlbwqUZQKrbvI7g5', 'GMVaKTddsrnLaYYMBKwSEg3jIZf9DVfchhBzTY2AuMBU1vdrfAvO7BStKmgM4peC', 'R7Fd5gFq370wBMwhPw0UAZCfIVgU6r48Bl5iWBjSRpj2SHk2xqpeeoK2Fhfc4tsJ', 'siPtChp64s0Zmdm7rodyfSNjwAfGJe1xDAk4jLlr0ZmpHsxQtKOrdQk3LlrjaPyM', 'XzYMu2Xp09PpxtqI4nrVDihoxayTbiCajl4CDbQqAQG9nSXB4lNyHGMCbkfKwd7q', 'JjW7CZXx1d0Tco9pzpyMMDWGpsEvGs8ZkD4j5kSy9hoEG42FXB5vQTa8iORJRL28', 'b9hU1UAysbzEIite5Mk2Titb0ExuINW0RZYCaD5XcQiUizVzU21bUn6k4J2juPCW', 'iTzVbfR8I3Q693ZN4hvcX6gArCDddkn8FSxLPoEfhG2iL3FqnHA3I9rWevLmiwJq', 'xLmbCQOVLAS3Z9yKkz9oakyHiomoITIWJLM5GVdrpsfynJgwRj1ulR7nhe3NsCKl', 'Qfcyl2x19RYyWoPqXGZWzIQaQ1RtQehIAX1SAVimdji76ueip8X5KYR7no4pBbtt', 'mkYMlBZcXcg2yDkay5APTVd6qaZ6ayE2TXZRlwGMk7OZi53hyBNPBu1ozUY461Ee', 'udKwhFU10isF9jD70jisi8raqjlnbkwE8HG5xaXbFAyYtUrdzMv1PKVgeVtpwmvy', 'fXcFd3CG1cGXbnT6b5gOC5uOPMRsMpvBI5g0SEXTXxYge38BlxFzuRb57cPmgXRX', '8mnLinaNwwhMtS4TpNGw9p9uFQB4KChHnjjxI9WFlDq0vVvKkiPrM1QIhhFO2uoe', 'vqnDf911lypplevUbMYiH5Z1ESKKZLzJSkdlrPV6KofWn0IH0nzAngEVTwFkuqew', 'KINiC3Ftjxp5l9SAgSIN8ZipoBRbFI56LQWQaOHQJKLcXTWlI5Fn69NOZVj0iulb', '3tlo2YDLUPPk2OlTHgx6tpcKc5Mn7QMdPs8XAlxJdj8AqeCKGoJZa0mISgJCzHxH', 'K73qps2lbDaqIG2kt6G265QRUK1Jfa6eyGq8UEJAMhBdv7naYD71IGddxKE7KCFg', '6Vod0hQZlMubcciE0pRKokKcHHvOYgeLLuI1I7g4O4AdfIUPFyeGnDTl76vyDKzR', 'Xewh1hduWfKdX4uwyBoLsCaNssMe9yaAJ4jPlI0CCgLMSbW3DKfcvVM00C96gYo4', 'x9069py78kIzB93fyjjF0LagHjFLse8nYk2SlW4h3UKijLAhp0GL8pVASpoew7yt', 'jx9TBdPw1egfQscgfLItlljwoTABjr7MmsxaLqqkUBuBz2EVvVE07WGFDIXLdu9Z', 'E7ri6w2SgFH3R0TQTsuKm1yH9uSaFwI5CtKiYORX8VHZ1CTj88bYaEXvzFNGVLHf', 'XVkci5KQqLZsZmEKgUl1qf1cx7qTn6qJQclcmrQ8c5S0r056eHmYUX7gGAJZlbv1', 'TDbjB4RvfyVOWdf93bI906br7YRVkJ9B0FQWWKuxjXnFDssPHtoJkDOZj3xA1D8e', 'q0lNxUXYzxnkRMwF7MFEaMPxeB5aEz3Zdqwxo6DWwOKpZboCDNO1NQEqyTCXWYxu', '8wOMJsJvjLcfXxU7IlaULCjY2k1ZRcRIJ9nxALOHbDed4OwusH5J32tdb16Rq2nV', 'bileiQCDHuECawHnc48PX5PC1YjCKqxaZhqPAIWpDLp6zqGFLR7MpY8A40NTv3Q7', 'TOgRnfIwwFpfjowkqtf5N4gzv84SJZDAL0zLSX2yQwVannEnBCVt1v1RDlLLmwcE', 'zmKQFbLjFsSsF1pVhOEUGwtsNhLohJdMrxkjkjGOkfXb30c1ekRTEN49CG1Xu7MK', 'ZTSN5NPRGbzF3nsBoo99etfTztzrrWUHCUMVNG1YLf73Qw22uPIbl8GuNLbABeva', 'j72wj80jjiL0E6cgulaLsztu2b2DfMF4IJvlUJfOz3hU5IaSy6B1ZsgoAUsBwEdb', 'UljkdrwKRaRfS2YcujuhSkKbwV5C9LWAsiDo3htqkSOxM01HdCnHUfppE8S2LUbQ', 'yo6DvObzZc9bssEcfgn7687f4F05MX2eS1eGuib8LYWrJpMMnJgjn3hCxV94v3g0', 'W9EsveTYqofkvDswV9ZTKFUS1voG504EPQCWtvB7u7GLxTVtpjiEi7X3xzg8U3bw', 'RgZQoJbmjiqG3PuKURlope9CneKqzDBSviJNsLYFkvZQo8CpPPrHgtuh5nPuEbGj', 'telgMIBmJ77K1pltqlKwfdEXCe0rU1eBQmTRHpax2nVF4VEvh2OegRWPmOB6NAZ7', 'UvWfGHZ9bZnqUri1OQHQRg0qkp8Vn1UvajOvPxQq4N2EVQAHvw4Y4XvPYKCPN5UF', '6WOwnJWUpRXyA6h9osw9tVjNTzsjei2F1iOE0soQU3qsjzJUGALGEpVSRuvAiwe0', 'JCtegzIWOeHRMZrhava3BtqE9monRbKZWQzrrtWQBf5QFTK6KrQrF50ys2fM9yKc', 'la2z08NIklaCtCdti7V9mcXlDz1kNn3Cb6VY5gOFCRtyGjt2PVMYojmfBSOiUTz4', 'Swkp3IJ1mUUbQRWbiqVYMpuqOKPP06EGHJUyKpLG0o1ja1IPNkvoHSWZPYN7LlvT', 'UmAxvsXOKEwyphIZOxdp19v2xtrUEkmbCBGZoLJY5RG16TqOs9fPxLItXyl7Dsil', 'dHwT415Fvb7uApKY1RbwJbJwNYgBeyhU36ct2rjTv22SbKewpfv6Nw6dvsTcn5yR', '6Cl9O1agDAcrfAYyDVKAPNdPAI6kt0ih0dbWir5bP5VrCRxq3IBcto6ixihU6EQN', 'D2ZvK7OgPerzHzTVkHCNG1UYyz1e9kQO0hSlMw5jko2bnp9cj8RdPaSSxrhLyWMV', 'ts1hXGTqb18OQ5crKVa8GBWLX2029QJa2yMTRVjB3jZkksOuQiMvOAR20IGMKP8h', '74lQKFi9XEWjkI7CXj5hYpvgnlMSFtA4lBgSN4Moh6tZ7Hy7kONj1Rkbrm3QVaE3', 'fDwNicjjRI94NYguR6ytgI9mbxtNkbcj9GcwS5dgqXbjWkKqi5skEPhvOSsuH8Yo', 'qmGMVgG0fZcWsnJvcVEROghqT8DmUaEyUe5wZgZYCM4x3X8JW3cMHJ3HDy9VNMtF', 'eal1Dqx2oU81doO0cUXffYkaZya9WAR7R5CIP4zCaZlt2G0x1W2Ia9F6e6mzxU7E', 'DA6Txf5OPW4zKKgOL7lG6Yte2Ilh8tFvb2NiOq3ucLY7mdjQ7jKo4lHvrAu4b63a', 'afqilXgXceGFKaugjFChzftfF3FouIVk6t1WJIxnfL48tFlhmOTp59pKTYFWQkgO', 'GYSZIomAmURp0pRnjYHFgEDs28iKKer5ftH5KBCpRu3cEbBtzQeZhWofXdJ0yyqn', 'xLKcIX7egy0Uzyutkm4nbn44hazqMjkvaXN9UTjEMcN53TzadgTlE5GbuB4BvoNB', 'h3tkmTA9C4LYNwCWyqkiSgZVlT6NQSGfv3u70BGQzkH97Om3rIjU1sx3e6nQnDTK', 'ksif3sL74XCmf1egPB0uEwi428Atdlka2TyFGquCvlr1HcvVEIhrzqxrplutD5js', '7KUzj9dz7zi1q8skRFWUZB5IdNfReC07WxoHIS7BlGNqLJXrAVAPkqw7Xyt7hvqG', 'rCFJHPMZ36MHSvJDqdFu7kZ68g7cVTzwnxnFc0OBqe8sOmgkmfiOID0jgfG7ZMVp', 'RCSa2tIjE1MTwOW9tmY4L2lV0yrjnRox7iYVhT8zYbMYDgh92gFpInEEzDtIBtY0', 'YNbtL1shvhZ00OSFA71oxJiHAxzk2ahNtKZGz20WLUgdAaHZ1NqvWFXfqhukDljq', 'hKyuiOZbIVYOyPrVvb6ybv3O8bOyYimk2CnOD4LKN5djfNh5agK3neV4QIVtgm2b', 'dRyuMU7lLhkBx3wMD2DCsxKewPGH0WSYtGbiI002brDoRcdGiXRyVAtLwY2rG7w7', 'tdukemcUVUyu4t2xyfS3DoNDPSeRI1IPLTClFOoykIJUYsUzjPjILwhNVmA0fwHb', 'e0nG8QXrqU1faJLRlm3pfyNANB02OpbZv4F3bK8uJBZYwrk6gXoUtuvaDXcBBBq2', 'zpAWx9294vh90VO4EUCrMam7oM5I8P0Ur6QEmZEMQapuqLdZYtOSWzvogPyJ2fUh', 'iENpvbSAPoTXCv7G9HcDbZqotJaWoA0XVb1SiWlwfgwEjsS37lPJY7JGqJUGF0nN', 'bTjDS2s6NjozLd5imKi0MpJ3H4Nx11NwKzo8yfxeAnYY8wDTkDKZgEuFqCKQuetA', 'pVdehAUBHXSU0tRgJbAxyhfNbMsfQc3NXpAvARlrfiTV09MgmfwaUqH2opwdn2of', 'jCBawAGU1bGg0usw69SZNwYbb4Cuu48x0sIjFA2sz445EHtcbuA1jo1funcXA8N1', '6eSO3E5wkk5uohufwdj5H7imJOkiMp9t4XzGdQ8qN3eXBYMKqavXOwZh5G5X3Wh7', 'J3q7JEO0S3bDt6wiDNV8Hw4PkG7tLBC0Zu3QcffLBSjTG2tB2oP0Qypw1DooX64X', 'dvgyTV9i16m2OkbTRTykB0LIRyKCCSYmWJNcKxAZKdCRQRM7rSlDBK79XIrryVll', 'eSKWhkhUIyaVsTfvQmtzoL7KZloi2wqxBv1H3B9nJUKbK8CDk0kKcKO6ThB5juaO', 'tZbclgMadlQbTXkQ4OZKcF0Ji4bBEUizWIhCHm6eKCvD5eFw6ZaFByIU2e3IyyMQ', 'wwSEW2DIPsATi2FVsrih3jCVXaFbcKxMCYTAC0HzkMv4AdcMPeH37ptSEGsf0CIa', 'WNC7ibRZ1MiRlmt1tr4wbkJtuvCNcOHw5NBsXTCGDtoxtJRLmDjLTWp7arhWKN18', '4LogIAKCLM6AezUnwNnPn3DmOkcXlpl8ltQMWqylcSGk3tEH7sHVslzRyE5IXmdt', 'JjADzQzDeEWqiye9iBGrtzh0kivoN91PdWUv49Hg5a49WCe3L7SSnBaXOH0v7NTp', 'MTN6sWnIhBNxOi7NxXkPuUsMIP4JmS1P3MzDEcVLmHiLQ03fAUdxELjxfVtlHMQv', 'ouU8Iz3ZSjPSILkakPEdFVBJXTzl8WDJSUorFt0ncP3WZn1f9E9ixN720c6DkGFu', 'UfRXZWp3lLeuD5UW7I7GRjuxn0VsVgRhwX4Gj6HwHxilCaSguSUZsKhBWClRWE30', 'Cjb8iRpvKi8cOIfzFC0KNhnN5RmYnZfggr5cGwXJ9kgqVmkQ3AkzITEFxF8iUgkv', 'YfTtR5Y1ul2GdR3XujI5ncdTImB6fD4YSWgLbzbLv0lYmQmEnXTPMaq6PHenMq8T', 'eRF3UFEsqFClxnelUfZK8nmIcRu1kOzyK627VVQM2vOJwm6Pto2QNOtinM5DmUmE', 'G8UKgib4DBNxKWDWpLsp5WXi6Mncb3SvELRQSfkZXtw4eHntFfIxLfAfb61S6TDv', 'ER8dZVgBfbR00S9DardxQg0O4fSSCVUtmC6aQW3vYgSxyeNOuqNne0dVKIwyVE5t', 'sFuNYfO86B6olwzIR6EWFXEuHnONKtYfQjv4O2nea1Sn8ADTVKLgPhwqYI3Esyk5', 'cCEGg6Rk1vq4mge2cXhEjQ2do4iHlZFPHseEpghHfwxPHCZL5ZecZEF2haUau2ye', 'PCQGmuaHnsig7KFcANm5pRu1AQdyrLieZG3tKR1AdjRpTFHRdpVJr2dbWMP5HU02', 'uUQjlsQrF3sYmLzQUeAEy5VI0128xLMcTHeFb23FBmjLP3xmyquShNmuukjdrZ4R', '8aaLjRQb94XvGoK08cVXkBPCBnikzweFDGHk677pbPAFk3W5fhWS8CbE7ppYgixe', 'uQh0kGPyrVyWU5SsmGZYt1bxSBZdqfKvIocokGaSp8oKeOC2IZobtZziAVFmn3dR', 'ci1Pn0w0Fj3m5t7Wz0EBH4GeyTjH6SHwdipoz6Vs89nHNlKIBqnXorn2DIddL2GL', 'cHnGOXRJvOtTFaTGfziURg4P4Wcip1zDNOcgjBMVMlJZBQzdeToTEP355OuSjcnz', 'fVjhkMGEKYVO2kY3Naf3TsL2R8gLflUwBb2Kah7hjsxxWN5Xfuwuw9Q6uxLqpbM2', '9kf8NVAtIZCgruA5MACS9Tf9FGarR5ysBrbE1d6TDEJ15QBmxucr6D75YiGR77ar', 'Msy0abSTQp60vPwQPjZj9c9PRFJC0xfktyDrbwFcTCykjRkaf4ThQkZAsEAQxSDd', 'F2IyoyMqvqljtyvDp8pNDwfNvPS9Cy5bzC7VA8KNuyd4KsQeNRYR6TF5fywCV6MU', 'XHkfEddlYf6aLRgFMPCktqjWW3Uz7s8Qs0dasLV8n0f9YRDCJ4Xb5Cqp1yqc4jhZ', '8xGgJI9lGmyRyoVVyNDVxGABVvyiccaG0oEKoQ4YNc2XizjDj1UKM0ZaZUNNBXmd', 'SDJjeQFJjstGG5hXyZ01uzrAheCB5GpUf9DDD2Ug1ChmAaBtdtKIAGfGEpNJilTc', '3euRnuoSpgGg7G2oSLFJGQKziC625TbXe0j5zi4eaPfdOUhno51itV7iWUcJVBqI', '7LBHcN6SVyis8BERDwzvfXm0i6YZbGIy5CI6hep7SVG7lO9yGZtzSCKTnfmyBKah', 'LUyV3i0ZJ938N7puhAjIP8JxE4nQXLDQFlOA603SHdl2usOCevvxuT4YCCgWPb9g', 'vmzPGnXOnjwSKPLdjxPrDfbVWi5LmZRfH5kNTk2HpFmEc9xaUY9anv18uXU7a03Z', 'SOqt0qogIVfaqD0SYjvRpNriEm4E7rC8Ea474NSI5WLSJQUp8N5dXzMSpnaFfFyW', 'auPH9BqZO3Peb3DNHCJoQd9mLhnPVo8hjOXiO9oZF8bB1DOzlOQRSqevu6lzhmKi', 'SpraJHRKTK7C2smGOYoRryqDEkAG0rdbajBbIrjM8HqrZQhLQ36961ccfLTaCpJP', 'lGQth3hXN2zMH9CEXIOjODOkimbzQO5VGToaQ02V0vx8Gq4uTQGElCwUaTGRud9t', '1yiBa1ASPs59HOGmjh6OFUqz5AhNoZcbFg6n2rTm40OO7w6CAseAz1TrbK8hyycP', 'ReZocLihQEDCRcSLEJlEYDnbrUHImpjeGhbOWfltRGwLfSbgLNkw1MFTePN5hr5m', 'iosmX1mMApe10zwNLxpjYEpUnIi1dKL6stlCzidi5YPs4KOLdIBpn3YfcNonxNQy', 'CiDZgmM3rR88E9dld8H9AtBlx3MIzXMoTSzpKfEiEflH18MgpJq7LFt3UNjMPfkc', 'S5INjdjd2eMaVreDcfPCxxWyKo7MLkfo0Yi523YdogNbjo7cVLTKOK2OJdrzZvVH', 'qAVp2GPRpAbonWY5xFU35juvn7eQUu4PEVcuU3YsEejVDS04CbXE7VkYOKT1qFHo', 'LTgeqGZDAdhCpDE1BKNUnC0im83bVI33m3T3HBBNNVkZZX0ikg2YReEg47SSi7rD', 'iMxZNX5R40rCJqe15laJfkOUtRvIboVp5nXVgM7woBqgCxQzwEE1fnxLGV19svEq', '5sbECLkv4tYyVk8o2tTjNV8XporeYalcSUKHMC1D8GexchmLQjLsOgaRCvWIfESX', 'jaXp1TnVY9YKQVcLeu9kucvpKplhpcRSTIAR7UQ2Gp9XDjSOuT3Z2XOJTPfr3ti3', 'c1sHK7gHI33eCGZUHTzsjYGerVxtessRh2wa66dwjtedNelm02iuNbIpiyPg2Yd6', 'PtjtJynv0QAD7D8rG1DTfbUPwiFtTJtqF2hZT6dqti51SO48HouIqO0ksUj00CuL', 'OTgtrhhH5dNSrKqvvPDrKCVBIjWEAPMX3u8EEIQtDXSTgnmzv0uF3zLIcBq0Kj6f', 'fakT80mrHokaFipJaTIKBlmC0pPTclKhCBwHz7czp47WpPlKLFY5zUYSfF8G72j6', 'rVSgUKScgQA87PH29uBgxcXdkZDh96wYm4MHHAmc5WbRgt41EeGuqu58zfLMX24H', 'P0pUVfd1mSPbhYmUh0PiDVQrspOLPxegTWeO3WxGOaOCXsQpbqOlxonMalxlULId', '88igBrMoeBf6XZapMRREIeZhvSr0lsYtA8jHlSmtPVS5gfMyPa2fXj6aSXfrW3qO', 'gOs9ASLDLFBalwvcE5wF1CvSSGkK3e8eCVKJdyYG6tng4yEggc0Ewpz5F0OJixpo', 'zgCXU2zFxhpiHDskATm80raPB6K8LDIlvigVvBmez7gTDp4XowqnSQxOjqCBjX57', 'p3fP9L33411280aq80ndKnoC2TYfFRQyRs9Pjuqj2GjdcZP6Op31EYtLxXP9bNe1', 'GjBQ67BYcvw004pTypfz3axEbIDfUgZWpNxpVZMlUk8QjoHpmGBJIwtv1em7w81y', 'AIYwRO9Iq6GXaICn5BWtvS44PkTVf1GSvkDaG7ZPggjp8uLDJwRpEg4QVjq1Z1Co', 'cplmnxYW6ZzKMIUcxbQoE5FQ82nf2d0GZiLRxI20IvpScWGg77UVOJjTliQcxYXD', 'PKzE4Ukt7EhVFauuRNoge3nYDoPZc10xFgWAr9hW3X4amYcPUaE2vZq7Nm7XNz8U', 'IE7tosqynA4Il84Sc7oPYa3uEUaqNmYbqYPXIPuksUMZ0zKmwXvahh1MzwIYnawM', 'PVLm30GxQFV9DjR4uxGrk4qFPEOqnizvzeQfAvOzHZxSGTWo69oN7Qp1rjfzwP5Y', 'Zc8wJXDurilgnnNjhLZkUou5XaN5Yz6g5H0i7x1AAiIdFLyMJjsGO0dIBhlGpQuA', 'EeZYawp6PCcwlhq4jUQVdxSvK8siqOvovwulODYJcgdLwG0cfETT2QhCzkEgezkm', 'b6NIvLurf33WC6AhlQAg0Qt4KAr5S8IR94eoMyUN7ILF7BMbeELLCUI8Zw4st1Fb', 'ADt0pK4kqL9bq1srGBFaLwKMOynhxnh6HW0G2kSFJZEJSVoVP61HCuCoGrTaNrgn', 'eJ2mXInnpTq8Ou6ijzC7pS6V6pAgLt4UZ5xF4XAlGIuWFMAcUb4FrkWOwk75CJZv', '45cmQWuCIVhgfU3UhgixJVsVfS5hQpgmbkRjGAn58MaTWWBvQqJULLJMhxSXF9Wi', 'A7FIaf3OPRXp8kNDa6yM5EVRogXqkw04NBsQFtLwAwOcSDAoMWDIn7r7YFHN56zG', 'L6VQ6hTQzThVEb2uIQzNTrl06ksbwS5F3kxAdVsAoQJWsQ3FZe2yGvfYth5anNYJ', '8nvrGfRmHmqLEkcSgqrsBWvS112B2V4OL3OatdWE9aAgsDfJW1qHDmxqXUtwbP5m', 'ckh79Wn0Xi80gQU7dJm1R3rtWRddpQx94bhuOWazFsFWVm7w6qZYt8CJssHqcWkM', 'ODlS1LwGZkI0Zh0p7Tik5Vjop0kd6KIab3DwnWciMHKG2opdQ0TF7yA8WAeCGZ8c', 'Fd5PbR4Gpg2y1KcCCV4l7cxs5TZd2IQO5TD7z3YCNlHF79mDnvY2XZAKvXSz0nhm', 'O9EX1tzsgIbnGwpiT2ab0kqh5dTMOTcb45dyRjJrRvmJbH4bCtP62L0vpetvxk0t', '3UhDA4RlM8f2flKijnvRvAguY4dOxVsLxeQ8XPsYLLXw3Ze9Re1x3O20dJDkm7vK', 'OKeCUH0coZpW69M3RwkT7jwNJcxK68HZsyDL8Lzd2h1pcXzhVNGzRVxz1wX0FlJM', 'VffcLT96lfSHOD82MkDKyq0RIWLcnsfeQ0XOIOWcp45xgedGir9R3yGf3Zs9x9Ic', 'TqTh3FYvrRWPmOpEHa2YOJL64rXXJCkkuNtq2tAxbvdcBZ1FMRMIY3zdJ4iZlJ52', 'OzHN8fhm2G3LgvwcWcT7nHLeQk7ZxoDr8eR725dK9KTwQOWcx7dT8mR1rN0JoEgH', 'waBYbq5G63Kj9oEMwrZkRe0TtkTUqmyZZO7z4hxeAArScGJ3IMiIJknUnGKgXIga', 'KNMFFFpMj0BP5hMAXFy5o2A4JVtKRNydusV4nzcGNJ6edXJeOpmZjlJmVv1CFV0I', '1SIFJ0Hzi8bxAobatmrfOTvZuJiQwfZkfXATO2T0V5vK33b6RnrHIioxS70iV0aq', '0rVKf2oaEHYo7EHch97BGr52fZ1l38Au86D2imZr4e0ySF4OaQVzFRA6iagWGkKG', 'StOoSP0mnf52Usnq6DaWUftKDJg2g0pD8DdYf4Zc1v16WtOhkfplKvFQ49wvv2pk', '2WTT8hcGMSpgqTX5SiLVuAz9jVrXlVpktLaVKGDviXbFJT79lTuy67eboglTMczy', 'K9c6T7WI6oQ6dpFPDWT2mG71kRJDsHXGook9nfCIfJGY0yt1dNhFCxY9Kqqgpp7K', 'nOaM9AoHDu56fODw0FlEH2tQnzvUb5r5hI4esc1KGeZ87xLFgxYlzuOZPXbKiVef', '8h4lkPQgSL8rJPYK0k49jrvENGw0Kth8F1PVRhFMNleaZqM39rJ6hlypLVP0q3Oz', 'NwyLKAzaR3TSLifHz7CRhULeZDpDLgFuMr793rAPA7uE4qBZKpTeNWBDUveRWtWo', '5xROCAKpeSFMlq0vUYDGSragrDVAw63UPWvWpZmsOIwk9DDNtdlipb60u0DJE557', 'xGXxD14fA9TRbMl27uuMc1WjRaFczstwteMrbh8uiG2nbOtwiIDlzLvcSHk0j5cR', '1rKuoFMak2pAuNek0w4r3NuONy5praNmBqPFhMMyyfBwMGI3hhqBoiEaXcWe01zJ', '6XwisC0F5HJJcVQZRw66qE5eavfrdw7AxugB8D7bnmNwbiUGF8VoVNJtxJjWnAqO', 'k343dr5MMpajzFMuAffwngrSqklGiRaJCJjo7vqyYGmzemqFl6xaeJ1dyfKGjZsf', 'QAOlo4EbLfQHgayBfyfPK3Xx6LxH4I3mRhufbbCE06AQLmrEFhCQLEd91jAi1BR6', 'f7evEtmtdKh6CeKpDHyCQcugXXj9jGAH59PfRHUYKBclaeQEDOoXPwndrfuB00iH', 'u1HV2jtoBRuN1aSa8eyokv0bCqKBYhw9qOh2nIjbYvusXd8fThRNwYZwhJb173vI', 'EjVnPeMW8tMwMgKUvlSefyes4A5n1jKcI6eFos67HMkzZCDE03cMSmB5drCYqfCi', 'jxBkAHVQtjTymJDrz8jezuB6nKJBmm65ZsbRV2l18mVOlbo8NzC7PPOhJUgpoWfh', 'rDVC17KyCIhFt7JtuIElBoa2oJLiQmQA2FpoJ5XzFbZO7FmHUiEc606ZGGabG4XP', 'QJ0M0vlDAkorkiKwnffN9S4201QGbDro69P1F66qpqHmVHlXaGYfinEDS03CaeQy', 'iOMjWlTrDR2ANRd3CsNWT6nrsOHE5JBqQxLqS9urLzcaE2AZMEKQYkvsScwoXKs6', '3XbSU9sgWkGIr8HTDMmsDCs6lRKC5FjNiy1o5Kh7RnvYqTPt9fPebgUMrLiN75FL', 'OUinYr8U0XxzBLbl8ncaAk7rBxjKp7X23MXDkmRCVvvbfvaQ09egnd2sSUKoS30r', 'ZE4z86FM9JeMgsbSaBLUaGVNNh6YGnnGDHWO5CSlCC6evM4NWcXXehY73i4TjUTb', '1ZbQVExTz3GPiczzDzcLBSZm6xUTSvVcKTD7n6wM0G0Dnr4PGXHqdpsowz683rXw', 'BjpcDR9UP6Xv1QsVuhb7ry35rXK64BjEhN5BMcyHwZDNI9b9kQO9PaE9ya7NtX5P', 'Vl9ho90hcApi9mkLdaclHBh909m9JwTY0A3Jy1KIINOsivqUKL6rRTWtJE5sn2QA']\n"
     ]
    }
   ],
   "source": [
    "# Arbes de Merkle\n",
    "import string\n",
    "import random\n",
    "import hashlib as hb\n",
    "\n",
    "# Fonction qui renvoie un hash aléatoire de taille lenght\n",
    "def random_hash(length):\n",
    "    return \"\".join(random.SystemRandom().choice(string.ascii_uppercase +\n",
    "                                                   string.digits +\n",
    " \n",
    "                                                string.ascii_lowercase)  for _ in range(length))\n",
    "\n",
    "# Liste de transactions génrérées aléatoirement\n",
    "transactions = [random_hash(64) for i in range(500)] #5000 bloque 500 lent\n",
    "\n",
    "# Fonction qui prend une liste de transactions et qui construit l'arbre de Merkle associé\n",
    "# La taille de la liste doit être pair\n",
    "# La fonction ne renvoie que la racine de l'arbre\n",
    "def merkle(tx):\n",
    "    i = 0\n",
    "    while i < len(tx) - 2:\n",
    "        sha  = hb.sha256()\n",
    "        hash = sha.update(tx[i]+tx[i+1])\n",
    "    \n",
    "    \n"
   ]
  },
  {
   "cell_type": "code",
   "execution_count": null,
   "metadata": {
    "collapsed": true
   },
   "outputs": [],
   "source": []
  }
 ],
 "metadata": {
  "kernelspec": {
   "display_name": "Python 3",
   "language": "python",
   "name": "python3"
  },
  "language_info": {
   "codemirror_mode": {
    "name": "ipython",
    "version": 3
   },
   "file_extension": ".py",
   "mimetype": "text/x-python",
   "name": "python",
   "nbconvert_exporter": "python",
   "pygments_lexer": "ipython3",
   "version": "3.6.3"
  }
 },
 "nbformat": 4,
 "nbformat_minor": 2
}
