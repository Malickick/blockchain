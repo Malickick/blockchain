{
 "cells": [
  {
   "cell_type": "code",
   "execution_count": null,
   "metadata": {},
   "outputs": [
    {
     "name": "stdout",
     "output_type": "stream",
     "text": [
      "preuve :  aJgUDv\n",
      "097d4670a52319e9d54749caa529fe2cf046a985cb3814500a3f47e98465b3b9\n",
      "temps de résolution : 0.0 secs\n",
      "\n",
      "preuve :  0wIHKM\n",
      "0015073336de7eca5e2ef6fe8941c1cec87e106731676f587a6b7cbd514405a0\n",
      "temps de résolution : 0.03 secs\n",
      "\n",
      "preuve :  G7JGEd\n",
      "000608d8e1a200dafeaf9a4d91525a0a6d4db4c9283d7c3a33e68bd33510679c\n",
      "temps de résolution : 1.18 secs\n",
      "\n",
      "preuve :  8y2vDv\n",
      "00008265785983c03cd49685ff600e0b4c314c4f78b9295bf9aa093e51c97e0d\n",
      "temps de résolution : 33.6 secs\n",
      "\n",
      "preuve :  AkIIti\n",
      "000000afdb01bdc24cd4726c9d92652178ee7724fc1e2e52a9e95b09d5ed4bb0\n",
      "temps de résolution : 284. secs\n",
      "\n",
      "preuve :  AkIIti\n",
      "000000afdb01bdc24cd4726c9d92652178ee7724fc1e2e52a9e95b09d5ed4bb0\n",
      "temps de résolution : 0.0 secs\n",
      "\n"
     ]
    }
   ],
   "source": [
    "import hashlib as hlb\n",
    "import string\n",
    "import random\n",
    "import time\n",
    "\n",
    "# Fonction PoW qui prend en entrée la preuve précédente et qui résout le problème de la file de zéros avec incrément de difficulté\n",
    "\n",
    "def pow(proof_old, fileZ_maxsize):\n",
    "    \n",
    "    fz_maxsize = fileZ_maxsize # Nombre max de zéros à trouver\n",
    "    p_size = len(proof_old)  # taille de la preuve\n",
    "    sha2 = hlb.sha256()\n",
    "    file_zeros = \"0\"\n",
    "    \n",
    "    while (len(file_zeros) <= fz_maxsize ):\n",
    "\n",
    "        start = time.time()\n",
    "        while not (sha2.hexdigest().startswith(file_zeros)): \n",
    "            mes =  proof_old + (''.join(random.SystemRandom().choice(string.ascii_uppercase +\n",
    "                                                       string.digits +\n",
    "                                                       string.ascii_lowercase)  for _ in range(p_size))) \n",
    "                                                        \n",
    "                \n",
    "            sha2.update(mes.encode(\"UTF-8\"))\n",
    "\n",
    "        time_took = time.time() - start\n",
    "        proof = mes[p_size:]\n",
    "        print(\"preuve : \", proof)\n",
    "        print(sha2.hexdigest())\n",
    "        print(\"temps de résolution :\", str(time_took)[:4], \"secs\\n\")\n",
    "        file_zeros += \"0\"\n",
    "\n",
    "psize = 5\n",
    "fzsize = 7\n",
    "pow(\"000000\", fzsize)"
   ]
  },
  {
   "cell_type": "code",
   "execution_count": null,
   "metadata": {
    "collapsed": true,
    "scrolled": false
   },
   "outputs": [],
   "source": []
  }
 ],
 "metadata": {
  "kernelspec": {
   "display_name": "Python 3",
   "language": "python",
   "name": "python3"
  },
  "language_info": {
   "codemirror_mode": {
    "name": "ipython",
    "version": 3
   },
   "file_extension": ".py",
   "mimetype": "text/x-python",
   "name": "python",
   "nbconvert_exporter": "python",
   "pygments_lexer": "ipython3",
   "version": "3.6.3"
  }
 },
 "nbformat": 4,
 "nbformat_minor": 2
}
