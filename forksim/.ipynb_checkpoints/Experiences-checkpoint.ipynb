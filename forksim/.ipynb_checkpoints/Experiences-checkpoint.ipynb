{
 "cells": [
  {
   "cell_type": "code",
   "execution_count": null,
   "metadata": {},
   "outputs": [],
   "source": [
    "import pickle\n",
    "import matplotlib.pyplot as plt\n",
    "import numpy as np\n",
    "\n",
    "pickle_from = open(\"1_500_4.pickle\", \"rb\")\n",
    "res = pickle.load(pickle_from)\n",
    "pickle_from.close()\n",
    "\n",
    "print(res)\n",
    "x = [x for (x,_) in res]\n",
    "y = [y for (_,y) in res]\n",
    "print(x)\n",
    "print(y)\n",
    "w = 0.4\n",
    "\n",
    "plt.bar(x, y, w, color='r' )\n",
    "\n",
    "plt.xlabel(\"Difficulté\")\n",
    "plt.ylabel(\"Nombre d'itérations\")\n",
    "plt.savefig(\"1_500_4.png\", bbox_inches='tight')\n",
    "plt.show()"
   ]
  },
  {
   "cell_type": "code",
   "execution_count": null,
   "metadata": {},
   "outputs": [],
   "source": [
    "pickle_from = open(\"1_500_5.pickle\", \"rb\")\n",
    "res = pickle.load(pickle_from)\n",
    "pickle_from.close()\n",
    "\n",
    "res[2] = (3, 14) # On prend la valeur du précédent \n",
    "res[3] = (4, 89)\n",
    "\n",
    "print(res)\n",
    "x = [x for (x,_) in res]\n",
    "y = [y for (_,y) in res]\n",
    "print(x)\n",
    "print(y)\n",
    "w = 0.4\n",
    "\n",
    "plt.bar(x, y, w, color='orange' )\n",
    "\n",
    "plt.xlabel(\"Difficulté\")\n",
    "plt.ylabel(\"Nombre d'itérations\")\n",
    "plt.savefig(\"1_500_5.png\", bbox_inches='tight')\n",
    "#plt.yscale(\"log\")\n",
    "plt.show()"
   ]
  },
  {
   "cell_type": "code",
   "execution_count": 29,
   "metadata": {},
   "outputs": [
    {
     "name": "stdout",
     "output_type": "stream",
     "text": [
      "[0, 1, 2, 3, 4, 5, 6, 7, 8, 9, 10, 11, 12, 13, 14, 15, 16, 17]\n",
      "18\n",
      "[500, 501, 502, 500, 501, 502, 503, 3, 4, 5, 6, 7, 8, 5, 5, 5, 6, 1]\n",
      "18\n"
     ]
    },
    {
     "data": {
      "image/png": "[encoded data removed]",
      "text/plain": [
       "<matplotlib.figure.Figure at 0x1179f9828>"
      ]
     },
     "metadata": {},
     "output_type": "display_data"
    }
   ],
   "source": [
    "import pickle\n",
    "import matplotlib.pyplot as plt\n",
    "import numpy as np\n",
    "\n",
    "# Expérience réalisée le 22/03 cf screen\n",
    "# N = 500 difficulté = 2\n",
    "conv_500_2 = [(0,500),(1,501),(2,502), (3,500), (4,501), (5,502), (6,503), (506,3), (1006,4), (1506,5), (2006,6), (2506,7), (3006,8), (3506,5), (4006,5), (4506,5), (5006,6), (5506,1)]\n",
    "\n",
    "for i in range(len(conv_500_2)):\n",
    "    (x,y) = conv_500_2[i]\n",
    "    conv_500_2[i] = (i,y)\n",
    "\n",
    "# Récupération des x,y\n",
    "x_conv_500_2 = [x for (x,_) in conv_500_2]\n",
    "print(x_conv_500_2)\n",
    "print(len(x_conv_500_2))\n",
    "y_conv_500_2 = [y for (_,y) in conv_500_2]\n",
    "print(y_conv_500_2)\n",
    "print(len(y_conv_500_2))\n",
    "\n",
    "# Affichage\n",
    "plt.plot(x_conv_500_2, y_conv_500_2, color='orange')\n",
    "plt.xlabel(\"Itération\")\n",
    "plt.ylabel(\"Nombre de forks\")\n",
    "plt.xscale(\"log\")\n",
    "plt.yscale(\"log\")\n",
    "plt.savefig(\"conv_500_2.png\", bbox_inches='tight')\n",
    "plt.show()\n",
    "\n"
   ]
  },
  {
   "cell_type": "code",
   "execution_count": 26,
   "metadata": {},
   "outputs": [
    {
     "name": "stdout",
     "output_type": "stream",
     "text": [
      "[1001, 1002, 1003, 1004, 1005, 1000, 1001, 1002, 1003, 3, 4, 5, 6, 3, 4, 5, 2, 3, 4, 5, 6, 4, 5, 6, 7, 8, 4, 5, 6, 2, 3, 1]\n",
      "32\n",
      "[0, 1, 2, 3, 4, 5, 6, 7, 8, 9, 10, 11, 12, 13, 14, 15, 16, 17, 18, 19, 20, 21, 22, 23, 24, 25, 26, 27, 28, 29, 30, 31]\n",
      "32\n"
     ]
    },
    {
     "data": {
      "image/png": "[encoded data removed]",
      "text/plain": [
       "<matplotlib.figure.Figure at 0x1171ee898>"
      ]
     },
     "metadata": {},
     "output_type": "display_data"
    }
   ],
   "source": [
    "conv_1000_2 = [1001, 1002, 1003, 1004, 1005, 1000, 1001, 1002, 1003, 3, 4, 5, 6, 3, 4, 5, 2, 3, 4, 5, 6, 4, 5, 6, 7, 8, 4, 5, 6, 2, 3, 1]\n",
    "\n",
    "y_conv_1000_2 = conv_1000_2\n",
    "x_conv_1000_2 = [i for i in range(len(conv_1000_2))]\n",
    "#x_conv_1000_2.append(1008)\n",
    "#for i in range(10, len(conv_1000_2)):\n",
    "    #x_conv_1000_2.append(x_conv_1000_2[i-1] + 1000)\n",
    "    \n",
    "print(y_conv_1000_2)\n",
    "print(len(y_conv_1000_2))\n",
    "print(x_conv_1000_2)\n",
    "print(len(x_conv_1000_2))\n",
    "\n",
    "# Affichage\n",
    "plt.plot(x_conv_1000_2, y_conv_1000_2, color='purple')\n",
    "plt.xlabel(\"Itération\")\n",
    "plt.ylabel(\"Nombre de forks\")\n",
    "#plt.savefig(\"1_500_5.png\", bbox_inches='tight')\n",
    "#plt.xscale(\"log\")\n",
    "plt.yscale(\"log\")\n",
    "plt.show()\n"
   ]
  },
  {
   "cell_type": "code",
   "execution_count": null,
   "metadata": {
    "collapsed": true
   },
   "outputs": [],
   "source": []
  }
 ],
 "metadata": {
  "kernelspec": {
   "display_name": "Python 3",
   "language": "python",
   "name": "python3"
  },
  "language_info": {
   "codemirror_mode": {
    "name": "ipython",
    "version": 3
   },
   "file_extension": ".py",
   "mimetype": "text/x-python",
   "name": "python",
   "nbconvert_exporter": "python",
   "pygments_lexer": "ipython3",
   "version": "3.6.3"
  }
 },
 "nbformat": 4,
 "nbformat_minor": 2
}
