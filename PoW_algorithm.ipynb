{
 "cells": [
  {
   "cell_type": "code",
   "execution_count": 1,
   "metadata": {
    "collapsed": true
   },
   "outputs": [],
   "source": [
    "import hashlib as hlb\n",
    "\n",
    "# m = hlb.md5()\n",
    "# m.update(\"Hello World !\".encode(\"UTF-8\"))\n",
    "\n",
    "# print(m.hexdigest())\n"
   ]
  },
  {
   "cell_type": "code",
   "execution_count": 2,
   "metadata": {},
   "outputs": [
    {
     "name": "stdout",
     "output_type": "stream",
     "text": [
      "preuve :  OoyQY9I\n",
      "0df0ecaf29c406c827384e98369e197a4f570b5464f6af69d11deb39c290673c\n",
      "temps de résolution : 0.0 secs\n",
      "preuve :  Q5vNsed\n",
      "00ebd21421738e818623738818c0c3c9f6354d23d3fce5858d090ab2292165f1\n",
      "temps de résolution : 0.02 secs\n",
      "preuve :  iI6SNqu\n",
      "0002f9e92913bc3b243da1651074a4a698e20e6c94374e130c658a3e5554ca69\n",
      "temps de résolution : 0.22 secs\n",
      "preuve :  kxCJoCg\n",
      "0000b6fb784f8f0519fb229972d20454403a02d135aae54519adf60087418f7b\n",
      "temps de résolution : 8.40 secs\n",
      "preuve :  nSYrPt8\n",
      "000000451d40407104292616c9557522e75b90b716b98de47d4955537e926688\n",
      "temps de résolution : 55.4 secs\n"
     ]
    }
   ],
   "source": [
    "import string\n",
    "import random\n",
    "import time\n",
    "\n",
    "# mesT = ''.join(random.SystemRandom().choice(string.ascii_uppercase + string.digits + string.ascii_lowercase) for _ in range(5))\n",
    "# print(mesT)\n",
    "\n",
    "# mes = \"\"\n",
    "# proof = \"\"\n",
    "\n",
    "file_zeros = \"0\"\n",
    "fz_maxsize = 5 # Nombre max de zéros à trouver\n",
    "sha2 = hlb.sha256()\n",
    "p_size = 7  # taille de la preuve\n",
    "# test SHA-254\n",
    "# sha2.update(\"0000000000\".encode(\"UTF-8\"))\n",
    "# print(sha2.hexdigest())\n",
    "\n",
    "while (len(file_zeros) <= fz_maxsize ):\n",
    "    \n",
    "    start = time.time()\n",
    "    while not (sha2.hexdigest().startswith(file_zeros)): # Syntaxe à améliorer\n",
    "        mes = ''.join(random.SystemRandom().choice(string.ascii_uppercase +\n",
    "                                                   string.digits +\n",
    "                                                   string.ascii_lowercase)  for _ in range(p_size))\n",
    "        sha2.update(mes.encode(\"UTF-8\"))\n",
    "\n",
    "    time_took = time.time() - start\n",
    "    proof = mes\n",
    "    print(\"preuve : \", proof)\n",
    "    print(sha2.hexdigest())\n",
    "    print(\"temps de résolution :\", str(time_took)[:4], \"secs\")\n",
    "    file_zeros += \"0\"\n",
    "    \n"
   ]
  },
  {
   "cell_type": "code",
   "execution_count": null,
   "metadata": {
    "collapsed": true,
    "scrolled": false
   },
   "outputs": [],
   "source": []
  }
 ],
 "metadata": {
  "kernelspec": {
   "display_name": "Python 3",
   "language": "python",
   "name": "python3"
  },
  "language_info": {
   "codemirror_mode": {
    "name": "ipython",
    "version": 3
   },
   "file_extension": ".py",
   "mimetype": "text/x-python",
   "name": "python",
   "nbconvert_exporter": "python",
   "pygments_lexer": "ipython3",
   "version": "3.6.3"
  }
 },
 "nbformat": 4,
 "nbformat_minor": 2
}
